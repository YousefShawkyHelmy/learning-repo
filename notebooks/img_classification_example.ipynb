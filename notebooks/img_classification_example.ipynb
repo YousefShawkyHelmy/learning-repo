{
  "nbformat": 4,
  "nbformat_minor": 0,
  "metadata": {
    "colab": {
      "provenance": []
    },
    "kernelspec": {
      "name": "python3",
      "display_name": "Python 3"
    },
    "language_info": {
      "name": "python"
    }
  },
  "cells": [
    {
      "cell_type": "code",
      "execution_count": 1,
      "metadata": {
        "id": "MXGTGRUN_2L7"
      },
      "outputs": [],
      "source": [
        "import tensorflow as tf\n",
        "from tensorflow.keras import layers, models"
      ]
    },
    {
      "cell_type": "code",
      "source": [
        "# Define the model architecture\n",
        "model = models.Sequential([\n",
        "    layers.Conv2D(32, (3, 3), activation='relu', input_shape=(28, 28, 1)),\n",
        "    layers.MaxPooling2D((2, 2)),\n",
        "    layers.Conv2D(64, (3, 3), activation='relu'),\n",
        "    layers.MaxPooling2D((2, 2)),\n",
        "    layers.Conv2D(64, (3, 3), activation='relu'),\n",
        "    layers.Flatten(),\n",
        "    layers.Dense(64, activation='relu'),\n",
        "    layers.Dense(10, activation='softmax')\n",
        "])"
      ],
      "metadata": {
        "id": "2vwnF8B6_-PJ"
      },
      "execution_count": 2,
      "outputs": []
    },
    {
      "cell_type": "code",
      "source": [
        "# Compile the model\n",
        "model.compile(optimizer='adam',\n",
        "              loss='categorical_crossentropy',\n",
        "              metrics=['accuracy'])"
      ],
      "metadata": {
        "id": "0Pws38szAGxO"
      },
      "execution_count": 3,
      "outputs": []
    },
    {
      "cell_type": "code",
      "source": [
        "# Load and preprocess the dataset\n",
        "(x_train, y_train), (x_test, y_test) = tf.keras.datasets.mnist.load_data()\n",
        "x_train = x_train.reshape((60000, 28, 28, 1)) / 255.0\n",
        "x_test = x_test.reshape((10000, 28, 28, 1)) / 255.0\n",
        "y_train = tf.keras.utils.to_categorical(y_train)\n",
        "y_test = tf.keras.utils.to_categorical(y_test)"
      ],
      "metadata": {
        "colab": {
          "base_uri": "https://localhost:8080/"
        },
        "id": "VqMQyZzCAJEZ",
        "outputId": "9ed148fa-4695-4761-e33e-51a77815c703"
      },
      "execution_count": 4,
      "outputs": [
        {
          "output_type": "stream",
          "name": "stdout",
          "text": [
            "Downloading data from https://storage.googleapis.com/tensorflow/tf-keras-datasets/mnist.npz\n",
            "11490434/11490434 [==============================] - 0s 0us/step\n"
          ]
        }
      ]
    },
    {
      "cell_type": "code",
      "source": [
        "import numpy as np\n",
        "import matplotlib.pyplot as plt\n",
        "\n",
        "def show_images(x_test):\n",
        "  num_rows = 5\n",
        "  num_cols = 3\n",
        "  num_images = num_rows*num_cols\n",
        "  plt.figure(figsize=(2*2*num_cols, 2*num_rows))\n",
        "  for i in range(num_images):\n",
        "      rand_idx = np.random.randint(0, len(x_test))\n",
        "      plt.subplot(num_rows, 2*num_cols, 2*i+1)\n",
        "      plt.imshow(x_test[rand_idx].reshape(28,28), cmap='gray')\n",
        "      plt.axis('off')\n",
        "      plt.subplot(num_rows, 2*num_cols, 2*i+2)\n",
        "      "
      ],
      "metadata": {
        "id": "hz9vFmVTAKy8"
      },
      "execution_count": 6,
      "outputs": []
    },
    {
      "cell_type": "markdown",
      "source": [
        "#Optimal model"
      ],
      "metadata": {
        "id": "oIjxWPdgCmtd"
      }
    },
    {
      "cell_type": "code",
      "source": [
        "# Train the model\n",
        "history = model.fit(x_train, y_train, epochs=5, validation_data=(x_test, y_test))\n",
        "\n",
        "# Evaluate the model on the test dataset\n",
        "test_loss, test_acc = model.evaluate(x_test, y_test)\n",
        "print('Test accuracy:', test_acc)"
      ],
      "metadata": {
        "id": "X1LQuuDoCHhe"
      },
      "execution_count": null,
      "outputs": []
    },
    {
      "cell_type": "code",
      "source": [
        "from tensorflow.keras.optimizers import Adam\n",
        "from tensorflow.keras.models import Sequential\n",
        "from tensorflow.keras.layers import Dense, Flatten\n",
        "\n",
        "# Define the model architecture\n",
        "\n",
        "model = Sequential([\n",
        "    Flatten(input_shape=(28, 28)),\n",
        "    Dense(128, activation='relu'),\n",
        "    Dense(10, activation='softmax')\n",
        "])\n",
        "\n",
        "# Define a range of learning rates to try\n",
        "learning_rates = [0.0001, 0.001, 0.01, 0.1]\n",
        "\n",
        "# Train the model with each learning rate and record the validation accuracy\n",
        "val_accs = []\n",
        "for lr in learning_rates:\n",
        "    opt = Adam(lr=lr)\n",
        "    model.compile(optimizer=opt, loss='categorical_crossentropy', metrics=['accuracy'])\n",
        "    history = model.fit(x_train, y_train, validation_data=(x_test, y_test), epochs=5, batch_size=32)\n",
        "    val_accs.append(history.history['val_accuracy'][-1])\n",
        "\n",
        "# Plot the validation accuracy as a function of the learning rate\n",
        "plt.plot(learning_rates, val_accs, 'bo-')\n",
        "plt.xscale('log')\n",
        "plt.xlabel('Learning rate')\n",
        "plt.ylabel('Validation accuracy')\n",
        "plt.title('Effect of learning rate on validation accuracy')\n",
        "plt.show()"
      ],
      "metadata": {
        "colab": {
          "base_uri": "https://localhost:8080/",
          "height": 1000
        },
        "id": "OlzTsOkGBFR3",
        "outputId": "b85d404d-fa6d-41a5-d19d-ec6db22404d4"
      },
      "execution_count": 12,
      "outputs": [
        {
          "output_type": "stream",
          "name": "stderr",
          "text": [
            "WARNING:absl:`lr` is deprecated, please use `learning_rate` instead, or use the legacy optimizer, e.g.,tf.keras.optimizers.legacy.Adam.\n"
          ]
        },
        {
          "output_type": "stream",
          "name": "stdout",
          "text": [
            "Epoch 1/5\n",
            "1875/1875 [==============================] - 9s 4ms/step - loss: 0.2615 - accuracy: 0.9257 - val_loss: 0.1366 - val_accuracy: 0.9585\n",
            "Epoch 2/5\n",
            "1875/1875 [==============================] - 10s 5ms/step - loss: 0.1149 - accuracy: 0.9661 - val_loss: 0.0974 - val_accuracy: 0.9707\n",
            "Epoch 3/5\n",
            "1875/1875 [==============================] - 9s 5ms/step - loss: 0.0793 - accuracy: 0.9765 - val_loss: 0.0837 - val_accuracy: 0.9737\n",
            "Epoch 4/5\n",
            "1875/1875 [==============================] - 8s 5ms/step - loss: 0.0599 - accuracy: 0.9822 - val_loss: 0.0784 - val_accuracy: 0.9768\n",
            "Epoch 5/5\n",
            "1875/1875 [==============================] - 8s 5ms/step - loss: 0.0453 - accuracy: 0.9862 - val_loss: 0.0737 - val_accuracy: 0.9780\n"
          ]
        },
        {
          "output_type": "stream",
          "name": "stderr",
          "text": [
            "WARNING:absl:`lr` is deprecated, please use `learning_rate` instead, or use the legacy optimizer, e.g.,tf.keras.optimizers.legacy.Adam.\n"
          ]
        },
        {
          "output_type": "stream",
          "name": "stdout",
          "text": [
            "Epoch 1/5\n",
            "1875/1875 [==============================] - 12s 6ms/step - loss: 0.0367 - accuracy: 0.9883 - val_loss: 0.0889 - val_accuracy: 0.9740\n",
            "Epoch 2/5\n",
            "1875/1875 [==============================] - 9s 5ms/step - loss: 0.0282 - accuracy: 0.9912 - val_loss: 0.0792 - val_accuracy: 0.9777\n",
            "Epoch 3/5\n",
            "1875/1875 [==============================] - 10s 5ms/step - loss: 0.0225 - accuracy: 0.9931 - val_loss: 0.0731 - val_accuracy: 0.9790\n",
            "Epoch 4/5\n",
            "1875/1875 [==============================] - 8s 4ms/step - loss: 0.0191 - accuracy: 0.9942 - val_loss: 0.0876 - val_accuracy: 0.9766\n",
            "Epoch 5/5\n",
            "1875/1875 [==============================] - 9s 5ms/step - loss: 0.0153 - accuracy: 0.9957 - val_loss: 0.0840 - val_accuracy: 0.9786\n"
          ]
        },
        {
          "output_type": "stream",
          "name": "stderr",
          "text": [
            "WARNING:absl:`lr` is deprecated, please use `learning_rate` instead, or use the legacy optimizer, e.g.,tf.keras.optimizers.legacy.Adam.\n"
          ]
        },
        {
          "output_type": "stream",
          "name": "stdout",
          "text": [
            "Epoch 1/5\n",
            "1875/1875 [==============================] - 10s 5ms/step - loss: 0.0153 - accuracy: 0.9951 - val_loss: 0.0838 - val_accuracy: 0.9784\n",
            "Epoch 2/5\n",
            "1875/1875 [==============================] - 9s 5ms/step - loss: 0.0106 - accuracy: 0.9968 - val_loss: 0.0919 - val_accuracy: 0.9777\n",
            "Epoch 3/5\n",
            "1875/1875 [==============================] - 8s 5ms/step - loss: 0.0096 - accuracy: 0.9971 - val_loss: 0.0843 - val_accuracy: 0.9794\n",
            "Epoch 4/5\n",
            "1875/1875 [==============================] - 9s 5ms/step - loss: 0.0089 - accuracy: 0.9973 - val_loss: 0.0952 - val_accuracy: 0.9783\n",
            "Epoch 5/5\n",
            "1875/1875 [==============================] - 9s 5ms/step - loss: 0.0078 - accuracy: 0.9975 - val_loss: 0.0929 - val_accuracy: 0.9786\n"
          ]
        },
        {
          "output_type": "stream",
          "name": "stderr",
          "text": [
            "WARNING:absl:`lr` is deprecated, please use `learning_rate` instead, or use the legacy optimizer, e.g.,tf.keras.optimizers.legacy.Adam.\n"
          ]
        },
        {
          "output_type": "stream",
          "name": "stdout",
          "text": [
            "Epoch 1/5\n",
            "1875/1875 [==============================] - 9s 5ms/step - loss: 0.0089 - accuracy: 0.9970 - val_loss: 0.0966 - val_accuracy: 0.9786\n",
            "Epoch 2/5\n",
            "1875/1875 [==============================] - 8s 4ms/step - loss: 0.0059 - accuracy: 0.9981 - val_loss: 0.0977 - val_accuracy: 0.9801\n",
            "Epoch 3/5\n",
            "1875/1875 [==============================] - 9s 5ms/step - loss: 0.0068 - accuracy: 0.9977 - val_loss: 0.0992 - val_accuracy: 0.9793\n",
            "Epoch 4/5\n",
            "1875/1875 [==============================] - 8s 4ms/step - loss: 0.0066 - accuracy: 0.9980 - val_loss: 0.0945 - val_accuracy: 0.9787\n",
            "Epoch 5/5\n",
            "1875/1875 [==============================] - 8s 4ms/step - loss: 0.0048 - accuracy: 0.9984 - val_loss: 0.1111 - val_accuracy: 0.9789\n"
          ]
        },
        {
          "output_type": "display_data",
          "data": {
            "text/plain": [
              "<Figure size 432x288 with 1 Axes>"
            ],
            "image/png": "[encoded data removed]"
          },
          "metadata": {
            "needs_background": "light"
          }
        }
      ]
    },
    {
      "cell_type": "code",
      "source": [
        "# Train the model with each learning rate and record the training loss\n",
        "train_losses = []\n",
        "for lr in learning_rates:\n",
        "    opt = Adam(lr=lr)\n",
        "    model.compile(optimizer=opt, loss='categorical_crossentropy', metrics=['accuracy'])\n",
        "    history = model.fit(x_train, y_train, validation_data=(x_test, y_test), epochs=5, batch_size=32)\n",
        "    train_losses.append(history.history['loss'][-1])\n",
        "\n",
        "# Plot the training loss as a function of the learning rate\n",
        "plt.plot(learning_rates, train_losses, 'bo-')\n",
        "plt.xscale('log')\n",
        "plt.xlabel('Learning rate')\n",
        "plt.ylabel('Training loss')\n",
        "plt.title('Effect of learning rate on training loss')\n",
        "plt.show()"
      ],
      "metadata": {
        "colab": {
          "base_uri": "https://localhost:8080/",
          "height": 1000
        },
        "id": "-81Ora0GDTYK",
        "outputId": "0bc9d5f4-44f0-4193-e419-8b929f301b7b"
      },
      "execution_count": 13,
      "outputs": [
        {
          "metadata": {
            "tags": null
          },
          "name": "stderr",
          "output_type": "stream",
          "text": [
            "WARNING:absl:`lr` is deprecated, please use `learning_rate` instead, or use the legacy optimizer, e.g.,tf.keras.optimizers.legacy.Adam.\n"
          ]
        },
        {
          "metadata": {
            "tags": null
          },
          "name": "stdout",
          "output_type": "stream",
          "text": [
            "Epoch 1/5\n",
            "1875/1875 [==============================] - 9s 4ms/step - loss: 0.0061 - accuracy: 0.9980 - val_loss: 0.1303 - val_accuracy: 0.9776\n",
            "Epoch 2/5\n",
            "1875/1875 [==============================] - 9s 5ms/step - loss: 0.0046 - accuracy: 0.9986 - val_loss: 0.1139 - val_accuracy: 0.9792\n",
            "Epoch 3/5\n",
            "1875/1875 [==============================] - 10s 5ms/step - loss: 0.0046 - accuracy: 0.9985 - val_loss: 0.1211 - val_accuracy: 0.9769\n",
            "Epoch 4/5\n",
            "1875/1875 [==============================] - 8s 4ms/step - loss: 0.0044 - accuracy: 0.9987 - val_loss: 0.1082 - val_accuracy: 0.9803\n",
            "Epoch 5/5\n",
            "1875/1875 [==============================] - 9s 5ms/step - loss: 0.0037 - accuracy: 0.9989 - val_loss: 0.1211 - val_accuracy: 0.9786\n"
          ]
        },
        {
          "metadata": {
            "tags": null
          },
          "name": "stderr",
          "output_type": "stream",
          "text": [
            "WARNING:absl:`lr` is deprecated, please use `learning_rate` instead, or use the legacy optimizer, e.g.,tf.keras.optimizers.legacy.Adam.\n"
          ]
        },
        {
          "metadata": {
            "tags": null
          },
          "name": "stdout",
          "output_type": "stream",
          "text": [
            "Epoch 1/5\n",
            "1875/1875 [==============================] - 11s 5ms/step - loss: 0.0043 - accuracy: 0.9985 - val_loss: 0.1290 - val_accuracy: 0.9782\n",
            "Epoch 2/5\n",
            "1875/1875 [==============================] - 9s 5ms/step - loss: 0.0038 - accuracy: 0.9988 - val_loss: 0.1600 - val_accuracy: 0.9744\n",
            "Epoch 3/5\n",
            "1875/1875 [==============================] - 8s 4ms/step - loss: 0.0044 - accuracy: 0.9985 - val_loss: 0.1266 - val_accuracy: 0.9782\n",
            "Epoch 4/5\n",
            "1875/1875 [==============================] - 8s 4ms/step - loss: 0.0026 - accuracy: 0.9992 - val_loss: 0.1506 - val_accuracy: 0.9765\n",
            "Epoch 5/5\n",
            "1875/1875 [==============================] - 9s 5ms/step - loss: 0.0036 - accuracy: 0.9988 - val_loss: 0.1284 - val_accuracy: 0.9797\n"
          ]
        },
        {
          "metadata": {
            "tags": null
          },
          "name": "stderr",
          "output_type": "stream",
          "text": [
            "WARNING:absl:`lr` is deprecated, please use `learning_rate` instead, or use the legacy optimizer, e.g.,tf.keras.optimizers.legacy.Adam.\n"
          ]
        },
        {
          "output_type": "stream",
          "name": "stdout",
          "text": [
            "Epoch 1/5\n",
            "1875/1875 [==============================] - 10s 5ms/step - loss: 0.0043 - accuracy: 0.9984 - val_loss: 0.1631 - val_accuracy: 0.9757\n",
            "Epoch 2/5\n",
            "1875/1875 [==============================] - 9s 5ms/step - loss: 0.0041 - accuracy: 0.9987 - val_loss: 0.1380 - val_accuracy: 0.9788\n",
            "Epoch 3/5\n",
            "1875/1875 [==============================] - 8s 4ms/step - loss: 0.0024 - accuracy: 0.9993 - val_loss: 0.1323 - val_accuracy: 0.9801\n",
            "Epoch 4/5\n",
            "1875/1875 [==============================] - 9s 5ms/step - loss: 0.0043 - accuracy: 0.9987 - val_loss: 0.1542 - val_accuracy: 0.9771\n",
            "Epoch 5/5\n",
            "1875/1875 [==============================] - 9s 5ms/step - loss: 0.0027 - accuracy: 0.9989 - val_loss: 0.1560 - val_accuracy: 0.9783\n"
          ]
        },
        {
          "output_type": "stream",
          "name": "stderr",
          "text": [
            "WARNING:absl:`lr` is deprecated, please use `learning_rate` instead, or use the legacy optimizer, e.g.,tf.keras.optimizers.legacy.Adam.\n"
          ]
        },
        {
          "output_type": "stream",
          "name": "stdout",
          "text": [
            "Epoch 1/5\n",
            "1875/1875 [==============================] - 10s 5ms/step - loss: 0.0033 - accuracy: 0.9990 - val_loss: 0.1509 - val_accuracy: 0.9784\n",
            "Epoch 2/5\n",
            "1875/1875 [==============================] - 8s 4ms/step - loss: 0.0033 - accuracy: 0.9987 - val_loss: 0.1505 - val_accuracy: 0.9778\n",
            "Epoch 3/5\n",
            "1875/1875 [==============================] - 10s 5ms/step - loss: 0.0039 - accuracy: 0.9988 - val_loss: 0.1534 - val_accuracy: 0.9797\n",
            "Epoch 4/5\n",
            "1875/1875 [==============================] - 9s 5ms/step - loss: 0.0018 - accuracy: 0.9994 - val_loss: 0.1496 - val_accuracy: 0.9799\n",
            "Epoch 5/5\n",
            "1875/1875 [==============================] - 9s 5ms/step - loss: 0.0043 - accuracy: 0.9987 - val_loss: 0.1494 - val_accuracy: 0.9784\n"
          ]
        },
        {
          "output_type": "display_data",
          "data": {
            "text/plain": [
              "<Figure size 432x288 with 1 Axes>"
            ],
            "image/png": "[encoded data removed]"
          },
          "metadata": {
            "needs_background": "light"
          }
        }
      ]
    },
    {
      "cell_type": "code",
      "source": [
        "from sklearn.model_selection import GridSearchCV\n",
        "from tensorflow.keras.wrappers.scikit_learn import KerasClassifier\n",
        "\n",
        "# Define the model architecture\n",
        "def create_model(learning_rate, batch_size):\n",
        "    model = Sequential([\n",
        "        Flatten(input_shape=(28, 28)),\n",
        "        Dense(128, activation='relu'),\n",
        "        Dense(10, activation='softmax')\n",
        "    ])\n",
        "    opt = Adam(lr=learning_rate)\n",
        "    model.compile(optimizer=opt, loss='categorical_crossentropy', metrics=['accuracy'])\n",
        "    return model\n",
        "\n",
        "# Define a range of hyperparameter values to search over\n",
        "param_grid = {\n",
        "    'learning_rate': [0.0001, 0.001, 0.01],\n",
        "    'batch_size': [16, 32, 64]\n",
        "}\n",
        "\n",
        "estimator = KerasClassifier(build_fn=create_model)\n",
        "# Use grid search to find the best combination of hyperparameters\n",
        "model = GridSearchCV(estimator=estimator, param_grid=param_grid, cv=3, n_jobs=-1)\n",
        "model.fit(x_train, y_train, validation_data=(x_test, y_test), epochs=5)\n",
        "print(model.best_params_)"
      ],
      "metadata": {
        "colab": {
          "base_uri": "https://localhost:8080/"
        },
        "id": "5xt3b3xeMfqR",
        "outputId": "e7eb0310-cdcb-4d7b-9a73-b2e143b1a214"
      },
      "execution_count": 21,
      "outputs": [
        {
          "output_type": "stream",
          "name": "stderr",
          "text": [
            "<ipython-input-21-b8db8be55b64>:21: DeprecationWarning: KerasClassifier is deprecated, use Sci-Keras (https://github.com/adriangb/scikeras) instead. See https://www.adriangb.com/scikeras/stable/migration.html for help migrating.\n",
            "  estimator = KerasClassifier(build_fn=create_model)\n",
            "WARNING:absl:`lr` is deprecated, please use `learning_rate` instead, or use the legacy optimizer, e.g.,tf.keras.optimizers.legacy.Adam.\n"
          ]
        },
        {
          "output_type": "stream",
          "name": "stdout",
          "text": [
            "Epoch 1/5\n",
            "3750/3750 [==============================] - 19s 5ms/step - loss: 0.2280 - accuracy: 0.9334 - val_loss: 0.1155 - val_accuracy: 0.9648\n",
            "Epoch 2/5\n",
            "3750/3750 [==============================] - 16s 4ms/step - loss: 0.1019 - accuracy: 0.9686 - val_loss: 0.0931 - val_accuracy: 0.9707\n",
            "Epoch 3/5\n",
            "3750/3750 [==============================] - 17s 4ms/step - loss: 0.0694 - accuracy: 0.9786 - val_loss: 0.0829 - val_accuracy: 0.9737\n",
            "Epoch 4/5\n",
            "3750/3750 [==============================] - 19s 5ms/step - loss: 0.0521 - accuracy: 0.9839 - val_loss: 0.0850 - val_accuracy: 0.9743\n",
            "Epoch 5/5\n",
            "3750/3750 [==============================] - 17s 4ms/step - loss: 0.0411 - accuracy: 0.9864 - val_loss: 0.0755 - val_accuracy: 0.9774\n",
            "{'batch_size': 16, 'learning_rate': 0.0001}\n"
          ]
        }
      ]
    },
    {
      "cell_type": "code",
      "source": [],
      "metadata": {
        "id": "50I13WObMp7X"
      },
      "execution_count": null,
      "outputs": []
    }
  ]
}